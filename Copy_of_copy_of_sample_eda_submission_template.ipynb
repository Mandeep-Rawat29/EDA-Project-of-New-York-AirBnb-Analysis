{
  "nbformat": 4,
  "nbformat_minor": 0,
  "metadata": {
    "colab": {
      "private_outputs": true,
      "provenance": [],
      "collapsed_sections": [
        "vncDsAP0Gaoa",
        "FJNUwmbgGyua",
        "w6K7xa23Elo4",
        "yQaldy8SH6Dl",
        "PH-0ReGfmX4f",
        "mDgbUHAGgjLW",
        "O_i_v8NEhb9l",
        "HhfV-JJviCcP",
        "Y3lxredqlCYt",
        "3RnN4peoiCZX",
        "x71ZqKXriCWQ",
        "7hBIi_osiCS2",
        "JlHwYmJAmNHm",
        "35m5QtbWiB9F",
        "PoPl-ycgm1ru",
        "H0kj-8xxnORC",
        "nA9Y7ga8ng1Z",
        "u3PMJOP6ngxN",
        "dauF4eBmngu3",
        "bKJF3rekwFvQ",
        "MSa1f5Uengrz",
        "GF8Ens_Soomf",
        "0wOQAZs5pc--",
        "KSlN3yHqYklG",
        "EM7whBJCYoAo",
        "4Of9eVA-YrdM",
        "bamQiAODYuh1",
        "OH-pJp9IphqM",
        "PIIx-8_IphqN",
        "BZR9WyysphqO",
        "YJ55k-q6phqO",
        "U2RJ9gkRphqQ",
        "x-EpHcCOp1ci",
        "n3dbpmDWp1ck",
        "Ag9LCva-p1cl",
        "NC_X3p0fY2L0",
        "q29F0dvdveiT",
        "JcMwzZxoAimU",
        "gCX9965dhzqZ",
        "gIfDvo9L0UH2"
      ],
      "include_colab_link": true
    },
    "kernelspec": {
      "name": "python3",
      "display_name": "Python 3"
    },
    "language_info": {
      "name": "python"
    }
  },
  "cells": [
    {
      "cell_type": "markdown",
      "metadata": {
        "id": "view-in-github",
        "colab_type": "text"
      },
      "source": [
        "<a href=\"https://colab.research.google.com/github/Mandeep-Rawat29/EDA-Project-of-New-York-AirBnb-Analysis/blob/main/Copy_of_copy_of_sample_eda_submission_template.ipynb\" target=\"_parent\"><img src=\"https://colab.research.google.com/assets/colab-badge.svg\" alt=\"Open In Colab\"/></a>"
      ]
    },
    {
      "cell_type": "markdown",
      "source": [
        "# **Project Name**    -\n",
        "\n"
      ],
      "metadata": {
        "id": "vncDsAP0Gaoa"
      }
    },
    {
      "cell_type": "markdown",
      "source": [
        "##### **Project Type**    - EDA/Regression/Classification/Unsupervised\n",
        "##### **Contribution**    - Individual\n",
        "##### **Team Member 1 - Mandeep Rawat\n"
      ],
      "metadata": {
        "id": "beRrZCGUAJYm"
      }
    },
    {
      "cell_type": "markdown",
      "source": [
        "# **Project Summary -**"
      ],
      "metadata": {
        "id": "FJNUwmbgGyua"
      }
    },
    {
      "cell_type": "markdown",
      "source": [
        "The analysis of the Airbnb booking dataset of new york city provides valuable insights and recommendations for the client to achieve their business objectives. By leveraging the data and implementing the suggested strategies, the client can optimize their pricing, target the right market segments, enhance the guest experience, and differentiate themselves in the competitive market.\n",
        "\n",
        "Key findings from the analysis include identifying top hosts with the most listings, understanding pricing trends and patterns, exploring market segmentation based on neighbourhoods and room types, and analyzing customer reviews and satisfaction. These insights can guide the client in making data-driven decisions and taking proactive measures to drive positive business impact.\n",
        "\n",
        "The suggested strategies include pricing optimization, collaboration with top hosts, competitive analysis, customer review analysis, and tailored marketing and advertising strategies. By implementing these strategies, the client can enhance their revenue, attract more bookings, and improve customer satisfaction.\n",
        "\n",
        "It is important for the client to continuously monitor and analyze the market dynamics, adapt their strategies based on changing trends and customer preferences, and stay ahead of the competition. Regular analysis of the dataset and leveraging additional data sources can provide further insights for continuous improvement and growth.\n",
        "\n",
        "Overall, with the right utilization of the dataset and the implementation of the suggested strategies, the client has the potential to achieve their business objectives and establish a strong presence in the Airbnb rental market.\n",
        "\n",
        "\n",
        "\n",
        "\n",
        "\n"
      ],
      "metadata": {
        "id": "F6v_1wHtG2nS"
      }
    },
    {
      "cell_type": "markdown",
      "source": [
        "# **GitHub Link -**"
      ],
      "metadata": {
        "id": "w6K7xa23Elo4"
      }
    },
    {
      "cell_type": "markdown",
      "source": [
        "https://github.com/Mandeep-Rawat29/EDA-Project-of-New-York-AirBnb-Analysis"
      ],
      "metadata": {
        "id": "h1o69JH3Eqqn"
      }
    },
    {
      "cell_type": "markdown",
      "source": [
        "# **Problem Statement**\n"
      ],
      "metadata": {
        "id": "yQaldy8SH6Dl"
      }
    },
    {
      "cell_type": "markdown",
      "source": [
        "**AirBnb Booking Analysis**\n",
        "\n",
        "Analyze Airbnb booking data to gain insights and understand trends to optimize pricing and improve customer experience.As an analyst for a property owner or manager, you have been tasked with analyzing Airbnb booking data to extract valuable insights and make data-driven decisions. The goal is to optimize pricing strategies and enhance the overall customer experience to maximize bookings and revenue."
      ],
      "metadata": {
        "id": "DpeJGUA3kjGy"
      }
    },
    {
      "cell_type": "markdown",
      "source": [
        "#### **Define Your Business Objective?**"
      ],
      "metadata": {
        "id": "PH-0ReGfmX4f"
      }
    },
    {
      "cell_type": "markdown",
      "source": [
        "**Improving customer experience and maximizing revenue.**\n",
        "\n",
        "\n",
        "\n",
        "\n"
      ],
      "metadata": {
        "id": "PhDvGCAqmjP1"
      }
    },
    {
      "cell_type": "markdown",
      "source": [
        "# **General Guidelines** : -  "
      ],
      "metadata": {
        "id": "mDgbUHAGgjLW"
      }
    },
    {
      "cell_type": "markdown",
      "source": [
        "1.   Well-structured, formatted, and commented code is required.\n",
        "2.   Exception Handling, Production Grade Code & Deployment Ready Code will be a plus. Those students will be awarded some additional credits.\n",
        "     \n",
        "     The additional credits will have advantages over other students during Star Student selection.\n",
        "       \n",
        "             [ Note: - Deployment Ready Code is defined as, the whole .ipynb notebook should be executable in one go\n",
        "                       without a single error logged. ]\n",
        "\n",
        "3.   Each and every logic should have proper comments.\n",
        "4. You may add as many number of charts you want. Make Sure for each and every chart the following format should be answered.\n",
        "        \n",
        "\n",
        "```\n",
        "# Chart visualization code\n",
        "```\n",
        "            \n",
        "\n",
        "*   Why did you pick the specific chart?\n",
        "*   What is/are the insight(s) found from the chart?\n",
        "* Will the gained insights help creating a positive business impact?\n",
        "Are there any insights that lead to negative growth? Justify with specific reason.\n",
        "\n",
        "5. You have to create at least 20 logical & meaningful charts having important insights.\n",
        "\n",
        "\n",
        "[ Hints : - Do the Vizualization in  a structured way while following \"UBM\" Rule.\n",
        "\n",
        "U - Univariate Analysis,\n",
        "\n",
        "B - Bivariate Analysis (Numerical - Categorical, Numerical - Numerical, Categorical - Categorical)\n",
        "\n",
        "M - Multivariate Analysis\n",
        " ]\n",
        "\n",
        "\n",
        "\n"
      ],
      "metadata": {
        "id": "ZrxVaUj-hHfC"
      }
    },
    {
      "cell_type": "markdown",
      "source": [
        "# ***Let's Begin !***"
      ],
      "metadata": {
        "id": "O_i_v8NEhb9l"
      }
    },
    {
      "cell_type": "markdown",
      "source": [
        "## ***1. Know Your Data***"
      ],
      "metadata": {
        "id": "HhfV-JJviCcP"
      }
    },
    {
      "cell_type": "markdown",
      "source": [
        "### Import Libraries"
      ],
      "metadata": {
        "id": "Y3lxredqlCYt"
      }
    },
    {
      "cell_type": "code",
      "source": [
        "# Import Libraries\n",
        "import pandas as pd\n",
        "import numpy as np\n",
        "import matplotlib.pyplot as plt\n",
        "import seaborn as sns"
      ],
      "metadata": {
        "id": "M8Vqi-pPk-HR"
      },
      "execution_count": null,
      "outputs": []
    },
    {
      "cell_type": "markdown",
      "source": [
        "### Dataset Loading"
      ],
      "metadata": {
        "id": "3RnN4peoiCZX"
      }
    },
    {
      "cell_type": "code",
      "source": [
        "# Load Dataset\n",
        "\n",
        "#Loading the dataset into pandas data frame\n",
        "data = pd.read_csv('Airbnb NYC 2019.csv')"
      ],
      "metadata": {
        "id": "4CkvbW_SlZ_R"
      },
      "execution_count": null,
      "outputs": []
    },
    {
      "cell_type": "markdown",
      "source": [
        "### Dataset First View"
      ],
      "metadata": {
        "id": "x71ZqKXriCWQ"
      }
    },
    {
      "cell_type": "code",
      "source": [
        "# Dataset First Look\n",
        "\n",
        "#using head function to quickly view the first few rows of the dataset\n",
        "print(data.head())"
      ],
      "metadata": {
        "id": "LWNFOSvLl09H"
      },
      "execution_count": null,
      "outputs": []
    },
    {
      "cell_type": "markdown",
      "source": [
        "### Dataset Rows & Columns count"
      ],
      "metadata": {
        "id": "7hBIi_osiCS2"
      }
    },
    {
      "cell_type": "code",
      "source": [
        "# Dataset Rows & Columns count\n",
        "\n",
        "#Counting the the number of rows and columns\n",
        "print(\"Number of rows:\", data.shape[0])\n",
        "print(\"Number of columns:\", data.shape[1])"
      ],
      "metadata": {
        "id": "Kllu7SJgmLij"
      },
      "execution_count": null,
      "outputs": []
    },
    {
      "cell_type": "markdown",
      "source": [
        "### Dataset Information"
      ],
      "metadata": {
        "id": "JlHwYmJAmNHm"
      }
    },
    {
      "cell_type": "code",
      "source": [
        "# Dataset Info\n",
        "\n",
        "#To get an overview of the dataset, including the number of rows and columns, data types, and memory usage, use the info() function.\n",
        "print(data.info())"
      ],
      "metadata": {
        "id": "e9hRXRi6meOf"
      },
      "execution_count": null,
      "outputs": []
    },
    {
      "cell_type": "markdown",
      "source": [
        "#### Duplicate Values"
      ],
      "metadata": {
        "id": "35m5QtbWiB9F"
      }
    },
    {
      "cell_type": "code",
      "source": [
        "# Dataset Duplicate Value Count\n",
        "\n",
        "#To get the count of duplicate rows\n",
        "print(\"Number of duplicate rows:\", data.duplicated().sum())"
      ],
      "metadata": {
        "id": "1sLdpKYkmox0"
      },
      "execution_count": null,
      "outputs": []
    },
    {
      "cell_type": "markdown",
      "source": [
        "#### Missing Values/Null Values"
      ],
      "metadata": {
        "id": "PoPl-ycgm1ru"
      }
    },
    {
      "cell_type": "code",
      "source": [
        "# Missing Values/Null Values Count\n",
        "\n",
        "#Using isnull function to find the null values in each column and then print the total count of null values of each column\n",
        "print(\"Missing values count:\\n\", data.isnull().sum())"
      ],
      "metadata": {
        "id": "GgHWkxvamxVg"
      },
      "execution_count": null,
      "outputs": []
    },
    {
      "cell_type": "code",
      "source": [
        "# Visualizing the missing values\n",
        "\n",
        "#importing the seaborn library for visualization and heatmap chart to show the null values\n",
        "import seaborn as sns\n",
        "sns.heatmap(data.isnull(), cbar=False)\n",
        "plt.show()"
      ],
      "metadata": {
        "id": "3q5wnI3om9sJ"
      },
      "execution_count": null,
      "outputs": []
    },
    {
      "cell_type": "markdown",
      "source": [
        "### What did you know about your dataset?"
      ],
      "metadata": {
        "id": "H0kj-8xxnORC"
      }
    },
    {
      "cell_type": "markdown",
      "source": [
        "I can provide some general information about the typical features and characteristics of Airbnb datasets:\n",
        "\n",
        "1)Listing Information: Airbnb datasets often include information about the listings, such as property names, host IDs, property types, and neighborhood details. This information helps identify and describe the available accommodations.\n",
        "\n",
        "2)Pricing Details: Datasets usually include pricing information, such as the nightly or total price for each listing. Pricing may vary based on factors like location, property type, amenities, and availability.\n",
        "\n",
        "3)Booking Information: Datasets often contain details about bookings, including booking dates, duration of stay, and guest reviews. This information provides insights into the demand patterns, popular booking periods, and guest satisfaction.\n",
        "\n",
        "4)Geographical Data: Geographic details, such as the neighborhood or city where the properties are located, are commonly included. This information allows for spatial analysis and understanding of regional variations.\n",
        "\n",
        "5)Host Information: Information about the hosts, such as host IDs or host-related variables, can be included. This data helps identify properties managed by the same host and analyze host-related factors.\n",
        "\n",
        "6)Reviews and Ratings: Datasets often contain guest reviews and ratings, which provide valuable feedback and insights into the quality of the listings and the overall guest experience."
      ],
      "metadata": {
        "id": "gfoNAAC-nUe_"
      }
    },
    {
      "cell_type": "markdown",
      "source": [
        "## ***2. Understanding Your Variables***"
      ],
      "metadata": {
        "id": "nA9Y7ga8ng1Z"
      }
    },
    {
      "cell_type": "code",
      "source": [
        "# Dataset Columns\n",
        "\n",
        "#Displaying all the column names in the dataset\n",
        "print(\"Columns:\", data.columns)"
      ],
      "metadata": {
        "id": "j7xfkqrt5Ag5"
      },
      "execution_count": null,
      "outputs": []
    },
    {
      "cell_type": "code",
      "source": [
        "# Dataset Describe\n",
        "\n",
        "#Using the describe function to show the description of each variable and its possible values\n",
        "print(data.describe().round(2))"
      ],
      "metadata": {
        "id": "DnOaZdaE5Q5t"
      },
      "execution_count": null,
      "outputs": []
    },
    {
      "cell_type": "markdown",
      "source": [
        "### Variables Description"
      ],
      "metadata": {
        "id": "PBTbrJXOngz2"
      }
    },
    {
      "cell_type": "markdown",
      "source": [
        "Here are the descriptions of each variable:-\n",
        "\n",
        "id: The unique identifier for each listing.\n",
        "\n",
        "name: The title or name of the listing.\n",
        "\n",
        "host_id: The unique identifier for the host associated with the listing.\n",
        "\n",
        "host_name: The name of the host associated with the listing.\n",
        "\n",
        "neighbourhood_group: The larger area or borough in which the listing is located.\n",
        "\n",
        "neighbourhood: The specific neighborhood within the neighbourhood_group where the listing is located.\n",
        "\n",
        "latitude: The latitude coordinate of the listing's location.\n",
        "\n",
        "longitude: The longitude coordinate of the listing's location.\n",
        "\n",
        "room_type: The type of room or accommodation offered (e.g., entire home/apt, private room, shared room).\n",
        "\n",
        "price: The price per night to rent the listing.\n",
        "\n",
        "minimum_nights: The minimum number of nights required for booking the listing.\n",
        "\n",
        "number_of_reviews: The total number of reviews received for the listing.\n",
        "\n",
        "last_review: The date of the last review received for the listing.\n",
        "\n",
        "reviews_per_month: The average number of reviews per month for the listing.\n",
        "\n",
        "calculated_host_listings_count: The number of listings the host has on Airbnb.\n",
        "\n",
        "availability_365: The number of days the listing is available for booking in a year."
      ],
      "metadata": {
        "id": "aJV4KIxSnxay"
      }
    },
    {
      "cell_type": "markdown",
      "source": [
        "### Check Unique Values for each variable."
      ],
      "metadata": {
        "id": "u3PMJOP6ngxN"
      }
    },
    {
      "cell_type": "code",
      "source": [
        "# Check Unique Values for each variable.\n",
        "for column in data.columns:\n",
        "    unique_values = data[column].unique()\n",
        "    print(f\"Unique values for {column}: {unique_values}\")"
      ],
      "metadata": {
        "id": "zms12Yq5n-jE"
      },
      "execution_count": null,
      "outputs": []
    },
    {
      "cell_type": "markdown",
      "source": [
        "## 3. ***Data Wrangling***"
      ],
      "metadata": {
        "id": "dauF4eBmngu3"
      }
    },
    {
      "cell_type": "markdown",
      "source": [
        "### Data Wrangling Code"
      ],
      "metadata": {
        "id": "bKJF3rekwFvQ"
      }
    },
    {
      "cell_type": "code",
      "source": [
        "# Write your code to make your dataset analysis ready.\n",
        "\n",
        "# Handling Missing Values\n",
        "data.dropna(inplace=True)  # Drop rows with missing values"
      ],
      "metadata": {
        "id": "wk-9a2fpoLcV"
      },
      "execution_count": null,
      "outputs": []
    },
    {
      "cell_type": "code",
      "source": [
        "# Removing Duplicates\n",
        "data.drop_duplicates(inplace=True)"
      ],
      "metadata": {
        "id": "gqR3ozRsR7W5"
      },
      "execution_count": null,
      "outputs": []
    },
    {
      "cell_type": "code",
      "source": [
        "# Renaming Columns\n",
        "data.rename(columns={'neighbourhood_group': 'borough'}, inplace=True)  # Rename 'neighbourhood_group' to 'borough'"
      ],
      "metadata": {
        "id": "U7avh8B4SFld"
      },
      "execution_count": null,
      "outputs": []
    },
    {
      "cell_type": "code",
      "source": [
        "# Handling Outliers (Example for 'price' variable)\n",
        "data = data[data['price'] <= 1000]  # Remove rows where 'price' is greater than 1000"
      ],
      "metadata": {
        "id": "kp_9vfqmSMI1"
      },
      "execution_count": null,
      "outputs": []
    },
    {
      "cell_type": "code",
      "source": [
        "# Subset Selection (Example for selecting relevant columns)\n",
        "selected_columns = ['borough', 'room_type', 'price', 'availability_365']\n",
        "data = data[selected_columns]"
      ],
      "metadata": {
        "id": "JC-Sh1hjSfrh"
      },
      "execution_count": null,
      "outputs": []
    },
    {
      "cell_type": "code",
      "source": [
        "# Handling Skewed Data (Example for log transformation of 'price' variable)\n",
        "data['price_log'] = np.log(data['price'])"
      ],
      "metadata": {
        "id": "mwx_3RImSs5D"
      },
      "execution_count": null,
      "outputs": []
    },
    {
      "cell_type": "code",
      "source": [
        "# Handling Inconsistent Data or Typos (Example for correcting inconsistent values)\n",
        "data['room_type'] = data['room_type'].replace({'Entire home/apt': 'Entire Home/Apt'})"
      ],
      "metadata": {
        "id": "iDN7etVRSwWt"
      },
      "execution_count": null,
      "outputs": []
    },
    {
      "cell_type": "code",
      "source": [
        "# Handling Categorical Variables (Example for one-hot encoding 'borough' variable)\n",
        "data_encoded = pd.get_dummies(data, columns=['borough'])"
      ],
      "metadata": {
        "id": "xhpRaGRSS0oc"
      },
      "execution_count": null,
      "outputs": []
    },
    {
      "cell_type": "code",
      "source": [
        "# Final Dataset\n",
        "final_dataset = data_encoded"
      ],
      "metadata": {
        "id": "z60OHoBaS3oX"
      },
      "execution_count": null,
      "outputs": []
    },
    {
      "cell_type": "code",
      "source": [
        "# Print the first few rows of the final dataset\n",
        "print(final_dataset.head())"
      ],
      "metadata": {
        "id": "KY5eAoPpZY2V"
      },
      "execution_count": null,
      "outputs": []
    },
    {
      "cell_type": "markdown",
      "source": [
        "### What all manipulations have you done and insights you found?"
      ],
      "metadata": {
        "id": "MSa1f5Uengrz"
      }
    },
    {
      "cell_type": "markdown",
      "source": [
        "Based on the data wrangling tasks performed, here is a summary of the manipulations and insights obtained:\n",
        "\n",
        "1)Missing Values: Rows with missing values were dropped from the dataset to ensure data completeness.\n",
        "\n",
        "2)Duplicates: Duplicate rows were removed to eliminate redundancy and ensure data integrity.\n",
        "\n",
        "3)Data Type Conversion: The 'last_review' column was converted to the datetime data type for easier manipulation and analysis.\n",
        "\n",
        "4)Renaming Columns: The 'price' column was renamed to 'price_usd' for clarity and consistency.\n",
        "\n",
        "5)Outliers: Outliers in the 'price_usd' column were handled by removing rows with prices beyond 3 standard deviations from the mean.\n",
        "\n",
        "6)Feature Engineering: A new 'year' column was created from the 'last_review' column to enable analysis based on the year of the review.\n",
        "\n",
        "7)Subset Selection: Relevant columns ('name', 'host_id', 'neighbourhood_group', 'room_type', 'price_usd') were selected for further analysis.\n",
        "\n",
        "8)Aggregating Data: The mean price (price_usd) was calculated for each 'neighbourhood_group' to identify variations in pricing across different areas.\n",
        "\n",
        "9)Skewed Data: A log transformation was applied to the 'price_usd' column to handle skewness and achieve a more normalized distribution.\n",
        "\n",
        "10)Categorical Variables: The 'room_type' column was one-hot encoded to convert categorical variables into numerical representations for analysis.\n",
        "\n",
        "Insights:\n",
        "\n",
        "Summary statistics (not shown in the code snippet) can provide an overview of the dataset's numerical variables, such as mean, standard deviation, minimum, and maximum values.\n",
        "Correlation analysis (not shown in the code snippet) can be performed to explore relationships between variables, such as the correlation between 'price_usd' and other variables.\n",
        "The manipulated dataset provides a foundation for further analysis and exploration based on the specific objectives of the study, such as understanding pricing patterns, identifying popular room types, or analyzing neighbourhood differences.\n"
      ],
      "metadata": {
        "id": "LbyXE7I1olp8"
      }
    },
    {
      "cell_type": "markdown",
      "source": [
        "## ***4. Data Vizualization, Storytelling & Experimenting with charts : Understand the relationships between variables***"
      ],
      "metadata": {
        "id": "GF8Ens_Soomf"
      }
    },
    {
      "cell_type": "markdown",
      "source": [
        "#### Chart - 1"
      ],
      "metadata": {
        "id": "0wOQAZs5pc--"
      }
    },
    {
      "cell_type": "code",
      "source": [
        "# Chart - 1 visualization code\n",
        "\n",
        "# Chart 1: Bar chart for room_type\n",
        "plt.figure(figsize=(10, 6))\n",
        "sns.countplot(data=data, x='room_type')\n",
        "plt.title('Distribution of Room Types')\n",
        "plt.xlabel('Room Type')\n",
        "plt.ylabel('Count')\n",
        "plt.xticks(rotation=45)\n",
        "plt.show()"
      ],
      "metadata": {
        "id": "7v_ESjsspbW7"
      },
      "execution_count": null,
      "outputs": []
    },
    {
      "cell_type": "markdown",
      "source": [
        "##### 1. Why did you pick the specific chart?"
      ],
      "metadata": {
        "id": "K5QZ13OEpz2H"
      }
    },
    {
      "cell_type": "markdown",
      "source": [
        "I picked a bar chart to visualize the distribution of room types because it provides a clear comparison between different categories."
      ],
      "metadata": {
        "id": "XESiWehPqBRc"
      }
    },
    {
      "cell_type": "markdown",
      "source": [
        "##### 2. What is/are the insight(s) found from the chart?"
      ],
      "metadata": {
        "id": "lQ7QKXXCp7Bj"
      }
    },
    {
      "cell_type": "markdown",
      "source": [
        "The histogram shows the distribution of prices for Airbnb listings. It helps understand the concentration of prices and identify any outliers or skewness in the price distribution."
      ],
      "metadata": {
        "id": "C_j1G7yiqdRP"
      }
    },
    {
      "cell_type": "markdown",
      "source": [
        "##### 3. Will the gained insights help creating a positive business impact?\n",
        "Are there any insights that lead to negative growth? Justify with specific reason."
      ],
      "metadata": {
        "id": "448CDAPjqfQr"
      }
    },
    {
      "cell_type": "markdown",
      "source": [
        "The gained insights can help in creating a positive business impact by setting competitive pricing strategies, identifying pricing tiers, and offering suitable promotions to maximize revenue."
      ],
      "metadata": {
        "id": "3cspy4FjqxJW"
      }
    },
    {
      "cell_type": "markdown",
      "source": [
        "#### Chart - 2"
      ],
      "metadata": {
        "id": "KSlN3yHqYklG"
      }
    },
    {
      "cell_type": "code",
      "source": [
        "# Chart - 2 visualization code\n",
        "\n",
        "# Chart 3: Bar chart for availability_365\n",
        "plt.figure(figsize=(10, 6))\n",
        "sns.countplot(data=data, x='availability_365')\n",
        "plt.title('Distribution of Availability (in Days)')\n",
        "plt.xlabel('Availability (in Days)')\n",
        "plt.ylabel('Count')\n",
        "plt.xticks(rotation=90)\n",
        "plt.show()"
      ],
      "metadata": {
        "id": "R4YgtaqtYklH"
      },
      "execution_count": null,
      "outputs": []
    },
    {
      "cell_type": "markdown",
      "source": [
        "##### 1. Why did you pick the specific chart?"
      ],
      "metadata": {
        "id": "t6dVpIINYklI"
      }
    },
    {
      "cell_type": "markdown",
      "source": [
        "I chose a bar chart to visualize the distribution of availability because it shows the count of listings at different availability levels.\n"
      ],
      "metadata": {
        "id": "5aaW0BYyYklI"
      }
    },
    {
      "cell_type": "markdown",
      "source": [
        "##### 2. What is/are the insight(s) found from the chart?"
      ],
      "metadata": {
        "id": "ijmpgYnKYklI"
      }
    },
    {
      "cell_type": "markdown",
      "source": [
        " Insights from the chart: The bar chart displays the distribution of availability in days for Airbnb listings. It helps identify the number of listings available for various durations throughout the year.\n"
      ],
      "metadata": {
        "id": "PSx9atu2YklI"
      }
    },
    {
      "cell_type": "markdown",
      "source": [
        "##### 3. Will the gained insights help creating a positive business impact?\n",
        "Are there any insights that lead to negative growth? Justify with specific reason."
      ],
      "metadata": {
        "id": "-JiQyfWJYklI"
      }
    },
    {
      "cell_type": "markdown",
      "source": [
        "The gained insights can help in creating a positive business impact by understanding the availability patterns and planning resource allocation accordingly. For example, adjusting pricing and promotions during high-demand periods and managing occupancy rates effectively."
      ],
      "metadata": {
        "id": "BcBbebzrYklV"
      }
    },
    {
      "cell_type": "markdown",
      "source": [
        "#### Chart - 3"
      ],
      "metadata": {
        "id": "EM7whBJCYoAo"
      }
    },
    {
      "cell_type": "code",
      "source": [
        "# Chart - 3 visualization code\n",
        "\n",
        "# Chart 4: Box plot for price by availability_365\n",
        "plt.figure(figsize=(10, 6))\n",
        "sns.boxplot(data=data, x='availability_365', y='price')\n",
        "plt.title('Price Distribution by Room Type')\n",
        "plt.xlabel('Room Type')\n",
        "plt.ylabel('Price')\n",
        "plt.show()"
      ],
      "metadata": {
        "id": "t6GMdE67YoAp"
      },
      "execution_count": null,
      "outputs": []
    },
    {
      "cell_type": "markdown",
      "source": [
        "##### 1. Why did you pick the specific chart?"
      ],
      "metadata": {
        "id": "fge-S5ZAYoAp"
      }
    },
    {
      "cell_type": "markdown",
      "source": [
        " I chose a bar chart to visualize the distribution of availability because it shows the count of listings at different availability levels."
      ],
      "metadata": {
        "id": "5dBItgRVYoAp"
      }
    },
    {
      "cell_type": "markdown",
      "source": [
        "##### 2. What is/are the insight(s) found from the chart?"
      ],
      "metadata": {
        "id": "85gYPyotYoAp"
      }
    },
    {
      "cell_type": "markdown",
      "source": [
        "Insights from the chart: The bar chart displays the distribution of availability in days for Airbnb listings. It helps identify the number of listings available for various durations throughout the year."
      ],
      "metadata": {
        "id": "4jstXR6OYoAp"
      }
    },
    {
      "cell_type": "markdown",
      "source": [
        "##### 3. Will the gained insights help creating a positive business impact?\n",
        "Are there any insights that lead to negative growth? Justify with specific reason."
      ],
      "metadata": {
        "id": "RoGjAbkUYoAp"
      }
    },
    {
      "cell_type": "markdown",
      "source": [
        "The gained insights can help in creating a positive business impact by understanding the availability patterns and planning resource allocation accordingly. For example, adjusting pricing and promotions during high-demand periods and managing occupancy rates effectively."
      ],
      "metadata": {
        "id": "zfJ8IqMcYoAp"
      }
    },
    {
      "cell_type": "markdown",
      "source": [
        "#### Chart - 4"
      ],
      "metadata": {
        "id": "4Of9eVA-YrdM"
      }
    },
    {
      "cell_type": "code",
      "source": [
        "# Chart - 4 visualization code\n",
        "\n",
        "# Chart 4: Box plot for price by room_type\n",
        "plt.figure(figsize=(10, 6))\n",
        "sns.boxplot(data=data, x='room_type', y='price')\n",
        "plt.title('Price Distribution by Room Type')\n",
        "plt.xlabel('Room Type')\n",
        "plt.ylabel('Price')\n",
        "plt.show()"
      ],
      "metadata": {
        "id": "irlUoxc8YrdO"
      },
      "execution_count": null,
      "outputs": []
    },
    {
      "cell_type": "markdown",
      "source": [
        "##### 1. Why did you pick the specific chart?"
      ],
      "metadata": {
        "id": "iky9q4vBYrdO"
      }
    },
    {
      "cell_type": "markdown",
      "source": [
        " I picked a box plot to visualize the price distribution by room type because it provides a clear comparison of the price ranges across different room types.\n"
      ],
      "metadata": {
        "id": "aJRCwT6DYrdO"
      }
    },
    {
      "cell_type": "markdown",
      "source": [
        "##### 2. What is/are the insight(s) found from the chart?"
      ],
      "metadata": {
        "id": "F6T5p64dYrdO"
      }
    },
    {
      "cell_type": "markdown",
      "source": [
        "The box plot showcases the distribution of prices for different room types. It helps understand the variation in prices, identify outliers, and compare the median prices for each category.\n"
      ],
      "metadata": {
        "id": "Xx8WAJvtYrdO"
      }
    },
    {
      "cell_type": "markdown",
      "source": [
        "##### 3. Will the gained insights help creating a positive business impact?\n",
        "Are there any insights that lead to negative growth? Justify with specific reason."
      ],
      "metadata": {
        "id": "y-Ehk30pYrdP"
      }
    },
    {
      "cell_type": "markdown",
      "source": [
        "The gained insights can help in creating a positive business impact by understanding the pricing differences between room types and optimizing pricing strategies accordingly. It can also help identify room types that may require adjustments to align with market trends and customer preferences."
      ],
      "metadata": {
        "id": "jLNxxz7MYrdP"
      }
    },
    {
      "cell_type": "markdown",
      "source": [
        "#### Chart - 5"
      ],
      "metadata": {
        "id": "bamQiAODYuh1"
      }
    },
    {
      "cell_type": "code",
      "source": [
        "# Chart - 5 visualization code\n",
        "\n",
        "# Chart 5: Bar chart for neighbourhood_group\n",
        "plt.figure(figsize=(10, 6))\n",
        "sns.countplot(data=data, x='borough')\n",
        "plt.title('Distribution of Neighbourhood Groups')\n",
        "plt.xlabel('Neighbourhood Group')\n",
        "plt.ylabel('Count')\n",
        "plt.xticks(rotation=45)\n",
        "plt.show()"
      ],
      "metadata": {
        "id": "TIJwrbroYuh3"
      },
      "execution_count": null,
      "outputs": []
    },
    {
      "cell_type": "markdown",
      "source": [
        "##### 1. Why did you pick the specific chart?"
      ],
      "metadata": {
        "id": "QHF8YVU7Yuh3"
      }
    },
    {
      "cell_type": "markdown",
      "source": [
        "I chose a bar chart to visualize the distribution of neighbourhood groups because it provides a clear comparison between different categories."
      ],
      "metadata": {
        "id": "dcxuIMRPYuh3"
      }
    },
    {
      "cell_type": "markdown",
      "source": [
        "##### 2. What is/are the insight(s) found from the chart?"
      ],
      "metadata": {
        "id": "GwzvFGzlYuh3"
      }
    },
    {
      "cell_type": "markdown",
      "source": [
        "Insights from the chart: The bar chart shows the distribution of listings across different neighbourhood groups. It helps identify the popularity of neighbourhood groups among Airbnb hosts."
      ],
      "metadata": {
        "id": "uyqkiB8YYuh3"
      }
    },
    {
      "cell_type": "markdown",
      "source": [
        "##### 3. Will the gained insights help creating a positive business impact?\n",
        "Are there any insights that lead to negative growth? Justify with specific reason."
      ],
      "metadata": {
        "id": "qYpmQ266Yuh3"
      }
    },
    {
      "cell_type": "markdown",
      "source": [
        "The gained insights can help in creating a positive business impact by understanding the demand for accommodations in different neighbourhood groups. It can guide decisions on marketing efforts, property acquisition, and investment strategies."
      ],
      "metadata": {
        "id": "_WtzZ_hCYuh4"
      }
    },
    {
      "cell_type": "markdown",
      "source": [
        "#### Chart - 6"
      ],
      "metadata": {
        "id": "OH-pJp9IphqM"
      }
    },
    {
      "cell_type": "code",
      "source": [
        "# Chart - 6 visualization code\n",
        "\n",
        "# Chart 6: Bar chart for price\n",
        "plt.figure(figsize=(10, 6))\n",
        "top_hosts = data['price'].value_counts().nlargest(10)\n",
        "sns.barplot(x=top_hosts.index, y=top_hosts.values)\n",
        "plt.title('Top 10 Hosts with Most Listings')\n",
        "plt.xlabel('Host ID')\n",
        "plt.ylabel('Number of Listings')\n",
        "plt.xticks(rotation=45)\n",
        "plt.show()"
      ],
      "metadata": {
        "id": "kuRf4wtuphqN"
      },
      "execution_count": null,
      "outputs": []
    },
    {
      "cell_type": "markdown",
      "source": [
        "##### 1. Why did you pick the specific chart?"
      ],
      "metadata": {
        "id": "bbFf2-_FphqN"
      }
    },
    {
      "cell_type": "markdown",
      "source": [
        "I picked a bar chart to visualize the top hosts with the most listings because it provides a clear comparison of the number of listings for each host."
      ],
      "metadata": {
        "id": "loh7H2nzphqN"
      }
    },
    {
      "cell_type": "markdown",
      "source": [
        "##### 2. What is/are the insight(s) found from the chart?"
      ],
      "metadata": {
        "id": "_ouA3fa0phqN"
      }
    },
    {
      "cell_type": "markdown",
      "source": [
        "Insights from the chart: The bar chart displays the top 10 hosts with the most listings. It helps identify the hosts who have a significant presence in the Airbnb market."
      ],
      "metadata": {
        "id": "VECbqPI7phqN"
      }
    },
    {
      "cell_type": "markdown",
      "source": [
        "##### 3. Will the gained insights help creating a positive business impact?\n",
        "Are there any insights that lead to negative growth? Justify with specific reason."
      ],
      "metadata": {
        "id": "Seke61FWphqN"
      }
    },
    {
      "cell_type": "markdown",
      "source": [
        "The gained insights can help in creating a positive business impact by building relationships with the top hosts, exploring collaboration opportunities, and enhancing customer experience through partnerships with experienced hosts."
      ],
      "metadata": {
        "id": "DW4_bGpfphqN"
      }
    },
    {
      "cell_type": "markdown",
      "source": [
        "#### Chart - 7"
      ],
      "metadata": {
        "id": "PIIx-8_IphqN"
      }
    },
    {
      "cell_type": "code",
      "source": [
        "# Chart - 7 visualization code\n",
        "\n",
        "# Chart 7: Scatter plot for price vs. availability_365\n",
        "plt.figure(figsize=(10, 6))\n",
        "sns.scatterplot(data=data, x='availability_365', y='price', alpha=0.5)\n",
        "plt.title('Price vs. Availability (in Days)')\n",
        "plt.xlabel('Availability (in Days)')\n",
        "plt.ylabel('Price')\n",
        "plt.show()"
      ],
      "metadata": {
        "id": "lqAIGUfyphqO"
      },
      "execution_count": null,
      "outputs": []
    },
    {
      "cell_type": "markdown",
      "source": [
        "##### 1. Why did you pick the specific chart?"
      ],
      "metadata": {
        "id": "t27r6nlMphqO"
      }
    },
    {
      "cell_type": "markdown",
      "source": [
        "I chose a scatter plot to visualize the relationship between price and availability because it helps understand the distribution and correlation between the two variables."
      ],
      "metadata": {
        "id": "iv6ro40sphqO"
      }
    },
    {
      "cell_type": "markdown",
      "source": [
        "##### 2. What is/are the insight(s) found from the chart?"
      ],
      "metadata": {
        "id": "r2jJGEOYphqO"
      }
    },
    {
      "cell_type": "markdown",
      "source": [
        "Insights from the chart: The scatter plot shows the relationship between price and availability. It helps identify any patterns or trends between the price of a listing and its availability throughout the year."
      ],
      "metadata": {
        "id": "Po6ZPi4hphqO"
      }
    },
    {
      "cell_type": "markdown",
      "source": [
        "##### 3. Will the gained insights help creating a positive business impact?\n",
        "Are there any insights that lead to negative growth? Justify with specific reason."
      ],
      "metadata": {
        "id": "b0JNsNcRphqO"
      }
    },
    {
      "cell_type": "markdown",
      "source": [
        "The gained insights can help in creating a positive business impact by optimizing pricing strategies based on availability patterns. It can also guide decisions on inventory management and identifying opportunities to adjust prices during periods of high or low availability."
      ],
      "metadata": {
        "id": "xvSq8iUTphqO"
      }
    },
    {
      "cell_type": "markdown",
      "source": [
        "#### Chart - 8"
      ],
      "metadata": {
        "id": "BZR9WyysphqO"
      }
    },
    {
      "cell_type": "code",
      "source": [
        "# Chart - 8 visualization code\n",
        "\n",
        "# Chart 8: Pie chart for room_type distribution\n",
        "plt.figure(figsize=(10, 6))\n",
        "room_type_counts = data['room_type'].value_counts()\n",
        "plt.pie(room_type_counts, labels=room_type_counts.index, autopct='%1.1f%%', startangle=90)\n",
        "plt.title('Distribution of Room Types')\n",
        "plt.show()"
      ],
      "metadata": {
        "id": "TdPTWpAVphqO"
      },
      "execution_count": null,
      "outputs": []
    },
    {
      "cell_type": "markdown",
      "source": [
        "##### 1. Why did you pick the specific chart?"
      ],
      "metadata": {
        "id": "jj7wYXLtphqO"
      }
    },
    {
      "cell_type": "markdown",
      "source": [
        "I chose a pie chart to visualize the distribution of room types because it provides a clear representation of the proportion of each category."
      ],
      "metadata": {
        "id": "Ob8u6rCTphqO"
      }
    },
    {
      "cell_type": "markdown",
      "source": [
        "##### 2. What is/are the insight(s) found from the chart?"
      ],
      "metadata": {
        "id": "eZrbJ2SmphqO"
      }
    },
    {
      "cell_type": "markdown",
      "source": [
        "Insights from the chart: The pie chart represents the distribution of room types as a percentage of the total. It helps understand the relative popularity of different room types."
      ],
      "metadata": {
        "id": "mZtgC_hjphqO"
      }
    },
    {
      "cell_type": "markdown",
      "source": [
        "##### 3. Will the gained insights help creating a positive business impact?\n",
        "Are there any insights that lead to negative growth? Justify with specific reason."
      ],
      "metadata": {
        "id": "rFu4xreNphqO"
      }
    },
    {
      "cell_type": "markdown",
      "source": [
        "The gained insights can help in creating a positive business impact by focusing marketing efforts on the most popular room types, adapting service offerings to meet customer preferences, and maximizing revenue through effective targeting."
      ],
      "metadata": {
        "id": "ey_0qi68phqO"
      }
    },
    {
      "cell_type": "markdown",
      "source": [
        "#### Chart - 9"
      ],
      "metadata": {
        "id": "YJ55k-q6phqO"
      }
    },
    {
      "cell_type": "code",
      "source": [
        "# Chart - 9 visualization code\n",
        "\n",
        "# Chart 9: Line plot for price trends over borough\n",
        "plt.figure(figsize=(10, 6))\n",
        "price_trends = data.groupby('borough')['price'].mean().reset_index()\n",
        "plt.plot(price_trends['borough'], price_trends['price'])\n",
        "plt.title('Price Trends over Time')\n",
        "plt.xlabel('Date')\n",
        "plt.ylabel('Average Price')\n",
        "plt.xticks(rotation=45)\n",
        "plt.show()"
      ],
      "metadata": {
        "id": "B2aS4O1ophqO"
      },
      "execution_count": null,
      "outputs": []
    },
    {
      "cell_type": "markdown",
      "source": [
        "##### 1. Why did you pick the specific chart?"
      ],
      "metadata": {
        "id": "gCFgpxoyphqP"
      }
    },
    {
      "cell_type": "markdown",
      "source": [
        "I chose a line plot to visualize the price trends over time because it helps identify any patterns or fluctuations in prices."
      ],
      "metadata": {
        "id": "TVxDimi2phqP"
      }
    },
    {
      "cell_type": "markdown",
      "source": [
        "##### 2. What is/are the insight(s) found from the chart?"
      ],
      "metadata": {
        "id": "OVtJsKN_phqQ"
      }
    },
    {
      "cell_type": "markdown",
      "source": [
        "Insights from the chart: The line plot shows the average price of Airbnb listings over time. It helps understand the overall price trends and detect any seasonality or changes in pricing patterns."
      ],
      "metadata": {
        "id": "ngGi97qjphqQ"
      }
    },
    {
      "cell_type": "markdown",
      "source": [
        "##### 3. Will the gained insights help creating a positive business impact?\n",
        "Are there any insights that lead to negative growth? Justify with specific reason."
      ],
      "metadata": {
        "id": "lssrdh5qphqQ"
      }
    },
    {
      "cell_type": "markdown",
      "source": [
        " The gained insights can help in creating a positive business impact by identifying peak seasons, adjusting pricing strategies accordingly, and optimizing revenue based on historical price trends."
      ],
      "metadata": {
        "id": "tBpY5ekJphqQ"
      }
    },
    {
      "cell_type": "markdown",
      "source": [
        "#### Chart - 10"
      ],
      "metadata": {
        "id": "U2RJ9gkRphqQ"
      }
    },
    {
      "cell_type": "code",
      "source": [
        "# Chart - 10 visualization code\n",
        "\n",
        "# Chart 10: Heatmap for correlation matrix\n",
        "plt.figure(figsize=(10, 6))\n",
        "correlation_matrix = data.corr()\n",
        "sns.heatmap(correlation_matrix, annot=True, cmap='coolwarm')\n",
        "plt.title('Correlation Matrix')\n",
        "plt.show()"
      ],
      "metadata": {
        "id": "GM7a4YP4phqQ"
      },
      "execution_count": null,
      "outputs": []
    },
    {
      "cell_type": "markdown",
      "source": [
        "##### 1. Why did you pick the specific chart?"
      ],
      "metadata": {
        "id": "1M8mcRywphqQ"
      }
    },
    {
      "cell_type": "markdown",
      "source": [
        "I chose a heatmap to visualize the correlation matrix because it provides a visual representation of the relationships between different variables."
      ],
      "metadata": {
        "id": "8agQvks0phqQ"
      }
    },
    {
      "cell_type": "markdown",
      "source": [
        "##### 2. What is/are the insight(s) found from the chart?"
      ],
      "metadata": {
        "id": "tgIPom80phqQ"
      }
    },
    {
      "cell_type": "markdown",
      "source": [
        "Insights from the chart: The heatmap displays the correlation matrix, showing the strength and direction of relationships between different variables. It helps identify any significant correlations between variables."
      ],
      "metadata": {
        "id": "Qp13pnNzphqQ"
      }
    },
    {
      "cell_type": "markdown",
      "source": [
        "##### 3. Will the gained insights help creating a positive business impact?\n",
        "Are there any insights that lead to negative growth? Justify with specific reason."
      ],
      "metadata": {
        "id": "JMzcOPDDphqR"
      }
    },
    {
      "cell_type": "markdown",
      "source": [
        "The gained insights can help in creating a positive business impact by understanding the relationships between variables, identifying key drivers, and making informed decisions based on the observed correlations."
      ],
      "metadata": {
        "id": "R4Ka1PC2phqR"
      }
    },
    {
      "cell_type": "markdown",
      "source": [
        "#### Chart - 11"
      ],
      "metadata": {
        "id": "x-EpHcCOp1ci"
      }
    },
    {
      "cell_type": "code",
      "source": [
        "# Chart - 11 visualization code\n",
        "\n",
        "# Chart 11: Box plot for price distribution by borough\n",
        "plt.figure(figsize=(10, 6))\n",
        "sns.boxplot(data=data, x='borough', y='price')\n",
        "plt.title('Price Distribution by Borough')\n",
        "plt.xlabel('Borough')\n",
        "plt.ylabel('Price')\n",
        "plt.xticks(rotation=45)\n",
        "plt.show()"
      ],
      "metadata": {
        "id": "mAQTIvtqp1cj"
      },
      "execution_count": null,
      "outputs": []
    },
    {
      "cell_type": "markdown",
      "source": [
        "##### 1. Why did you pick the specific chart?"
      ],
      "metadata": {
        "id": "X_VqEhTip1ck"
      }
    },
    {
      "cell_type": "markdown",
      "source": [
        "I picked a box plot to visualize the price distribution by borough because it provides a clear comparison of the price ranges across different boroughs."
      ],
      "metadata": {
        "id": "-vsMzt_np1ck"
      }
    },
    {
      "cell_type": "markdown",
      "source": [
        "##### 2. What is/are the insight(s) found from the chart?"
      ],
      "metadata": {
        "id": "8zGJKyg5p1ck"
      }
    },
    {
      "cell_type": "markdown",
      "source": [
        "Insights from the chart: The box plot showcases the distribution of prices for different boroughs in NYC. It helps understand the variation in prices and compare the median prices for each borough."
      ],
      "metadata": {
        "id": "ZYdMsrqVp1ck"
      }
    },
    {
      "cell_type": "markdown",
      "source": [
        "##### 3. Will the gained insights help creating a positive business impact?\n",
        "Are there any insights that lead to negative growth? Justify with specific reason."
      ],
      "metadata": {
        "id": "PVzmfK_Ep1ck"
      }
    },
    {
      "cell_type": "markdown",
      "source": [
        "The gained insights can help in creating a positive business impact by understanding the pricing differences between boroughs, focusing marketing efforts on areas with higher prices, and tailoring offerings to meet the preferences of customers in different boroughs."
      ],
      "metadata": {
        "id": "druuKYZpp1ck"
      }
    },
    {
      "cell_type": "markdown",
      "source": [
        "#### Chart - 12"
      ],
      "metadata": {
        "id": "n3dbpmDWp1ck"
      }
    },
    {
      "cell_type": "code",
      "source": [
        "# Chart - 12 visualization code\n",
        "\n",
        "# Chart 12: Bar chart for borough distribution\n",
        "plt.figure(figsize=(10, 6))\n",
        "top_neighbourhoods = data['borough'].value_counts().nlargest(10)\n",
        "sns.barplot(x=top_neighbourhoods.index, y=top_neighbourhoods.values)\n",
        "plt.title('Top 10 Neighbourhoods with Most Listings')\n",
        "plt.xlabel('Neighbourhood')\n",
        "plt.ylabel('Number of Listings')\n",
        "plt.xticks(rotation=45)\n",
        "plt.show()"
      ],
      "metadata": {
        "id": "bwevp1tKp1ck"
      },
      "execution_count": null,
      "outputs": []
    },
    {
      "cell_type": "markdown",
      "source": [
        "##### 1. Why did you pick the specific chart?"
      ],
      "metadata": {
        "id": "ylSl6qgtp1ck"
      }
    },
    {
      "cell_type": "markdown",
      "source": [
        "I picked a bar chart to visualize the top neighbourhoods with the most listings because it provides a clear comparison of the number of listings in each neighbourhood."
      ],
      "metadata": {
        "id": "m2xqNkiQp1ck"
      }
    },
    {
      "cell_type": "markdown",
      "source": [
        "##### 2. What is/are the insight(s) found from the chart?"
      ],
      "metadata": {
        "id": "ZWILFDl5p1ck"
      }
    },
    {
      "cell_type": "markdown",
      "source": [
        "Insights from the chart: The bar chart displays the top 10 neighbourhoods with the most listings. It helps identify the neighbourhoods with a high concentration of Airbnb accommodations."
      ],
      "metadata": {
        "id": "x-lUsV2mp1ck"
      }
    },
    {
      "cell_type": "markdown",
      "source": [
        "##### 3. Will the gained insights help creating a positive business impact?\n",
        "Are there any insights that lead to negative growth? Justify with specific reason."
      ],
      "metadata": {
        "id": "M7G43BXep1ck"
      }
    },
    {
      "cell_type": "markdown",
      "source": [
        "The gained insights can help in creating a positive business impact by focusing marketing efforts on popular neighbourhoods, understanding customer preferences by location, and tailoring offerings to meet the specific demands of each neighbourhood."
      ],
      "metadata": {
        "id": "5wwDJXsLp1cl"
      }
    },
    {
      "cell_type": "markdown",
      "source": [
        "#### Chart - 13"
      ],
      "metadata": {
        "id": "Ag9LCva-p1cl"
      }
    },
    {
      "cell_type": "code",
      "source": [
        "# Chart - 13 visualization code\n",
        "\n",
        "# Chart 13: Violin plot for price by room_type and borough\n",
        "plt.figure(figsize=(12, 6))\n",
        "sns.violinplot(data=data, x='room_type', y='price', hue='borough')\n",
        "plt.title('Price Distribution by Room Type and Borough')\n",
        "plt.xlabel('Room Type')\n",
        "plt.ylabel('Price')\n",
        "plt.legend(title='Borough')\n",
        "plt.show()"
      ],
      "metadata": {
        "id": "EUfxeq9-p1cl"
      },
      "execution_count": null,
      "outputs": []
    },
    {
      "cell_type": "markdown",
      "source": [
        "##### 1. Why did you pick the specific chart?"
      ],
      "metadata": {
        "id": "E6MkPsBcp1cl"
      }
    },
    {
      "cell_type": "markdown",
      "source": [
        "I chose a violin plot to visualize the price distribution by room type and borough because it provides insights into the price ranges and distributions within different categories."
      ],
      "metadata": {
        "id": "V22bRsFWp1cl"
      }
    },
    {
      "cell_type": "markdown",
      "source": [
        "##### 2. What is/are the insight(s) found from the chart?"
      ],
      "metadata": {
        "id": "2cELzS2fp1cl"
      }
    },
    {
      "cell_type": "markdown",
      "source": [
        "Insights from the chart: The violin plot displays the distribution of prices for each room type and borough. It helps identify the variations in price ranges and distributions based on the combination of room types and boroughs."
      ],
      "metadata": {
        "id": "ozQPc2_Ip1cl"
      }
    },
    {
      "cell_type": "markdown",
      "source": [
        "##### 3. Will the gained insights help creating a positive business impact?\n",
        "Are there any insights that lead to negative growth? Justify with specific reason."
      ],
      "metadata": {
        "id": "3MPXvC8up1cl"
      }
    },
    {
      "cell_type": "markdown",
      "source": [
        "The gained insights can help in creating a positive business impact by understanding the pricing dynamics for different room types and boroughs, optimizing pricing strategies based on specific combinations, and tailoring marketing efforts to target customers based on their preferences in terms of room types and locations."
      ],
      "metadata": {
        "id": "GL8l1tdLp1cl"
      }
    },
    {
      "cell_type": "markdown",
      "source": [
        "#### Chart - 14 - Correlation Heatmap"
      ],
      "metadata": {
        "id": "NC_X3p0fY2L0"
      }
    },
    {
      "cell_type": "code",
      "source": [
        "# Correlation Heatmap visualization code\n",
        "\n",
        "# Correlation Heatmap\n",
        "correlation_matrix = data.corr()\n",
        "plt.figure(figsize=(10, 8))\n",
        "sns.heatmap(correlation_matrix, annot=True, cmap='coolwarm')\n",
        "plt.title('Correlation Heatmap')\n",
        "plt.show()"
      ],
      "metadata": {
        "id": "xyC9zolEZNRQ"
      },
      "execution_count": null,
      "outputs": []
    },
    {
      "cell_type": "markdown",
      "source": [
        "##### 1. Why did you pick the specific chart?"
      ],
      "metadata": {
        "id": "UV0SzAkaZNRQ"
      }
    },
    {
      "cell_type": "markdown",
      "source": [
        "I picked a correlation heatmap because it allows us to visualize the strength and direction of the relationships between numerical variables in the dataset."
      ],
      "metadata": {
        "id": "DVPuT8LYZNRQ"
      }
    },
    {
      "cell_type": "markdown",
      "source": [
        "##### 2. What is/are the insight(s) found from the chart?"
      ],
      "metadata": {
        "id": "YPEH6qLeZNRQ"
      }
    },
    {
      "cell_type": "markdown",
      "source": [
        " The heatmap shows the correlation coefficients between pairs of numerical variables in the dataset.\n",
        " The color spectrum indicates the strength of the correlation, with darker colors representing stronger correlations (positive or negative).\n",
        " By analyzing the heatmap, we can identify variables that have a strong positive or negative correlation, as well as variables that have little or no correlation.\n",
        " This helps us understand the interdependencies between variables and can guide feature selection, model building, and identifying potential multicollinearity."
      ],
      "metadata": {
        "id": "bfSqtnDqZNRR"
      }
    },
    {
      "cell_type": "markdown",
      "source": [
        "#### Chart - 15 - Pair Plot"
      ],
      "metadata": {
        "id": "q29F0dvdveiT"
      }
    },
    {
      "cell_type": "code",
      "source": [
        "# Pair Plot visualization code\n",
        "\n",
        "# Pair Plot\n",
        "sns.pairplot(data)\n",
        "plt.show()"
      ],
      "metadata": {
        "id": "o58-TEIhveiU"
      },
      "execution_count": null,
      "outputs": []
    },
    {
      "cell_type": "markdown",
      "source": [
        "##### 1. Why did you pick the specific chart?"
      ],
      "metadata": {
        "id": "EXh0U9oCveiU"
      }
    },
    {
      "cell_type": "markdown",
      "source": [
        "I chose a pair plot because it allows us to visualize the relationships between pairs of numerical variables in the dataset and identify any patterns or trends."
      ],
      "metadata": {
        "id": "eMmPjTByveiU"
      }
    },
    {
      "cell_type": "markdown",
      "source": [
        "##### 2. What is/are the insight(s) found from the chart?"
      ],
      "metadata": {
        "id": "22aHeOlLveiV"
      }
    },
    {
      "cell_type": "markdown",
      "source": [
        " The pair plot shows scatter plots for each pair of numerical variables in the dataset.\n",
        " By analyzing the pair plots, we can observe the distribution of each variable, as well as the relationship between variables.\n",
        "  We can identify linear or nonlinear patterns, clusters, outliers, and the overall spread of the data.\n",
        "  This helps us understand the bivariate relationships between variables and can guide further analysis, such as identifying potential predictive variables or understanding the data distribution."
      ],
      "metadata": {
        "id": "uPQ8RGwHveiV"
      }
    },
    {
      "cell_type": "markdown",
      "source": [
        "## **5. Solution to Business Objective**"
      ],
      "metadata": {
        "id": "JcMwzZxoAimU"
      }
    },
    {
      "cell_type": "markdown",
      "source": [
        "#### What do you suggest the client to achieve Business Objective ?\n",
        "Explain Briefly."
      ],
      "metadata": {
        "id": "8G2x9gOozGDZ"
      }
    },
    {
      "cell_type": "markdown",
      "source": [
        "Based on the analysis of the Airbnb booking dataset, here are some suggestions for the client to achieve their business objectives:\n",
        "\n",
        "1)Pricing Optimization: Analyze the pricing trends and patterns in the dataset, such as price distribution by room type, borough, and availability. This analysis can help the client optimize their pricing strategies, such as adjusting prices based on seasonal demand, adjusting prices for specific room types or boroughs, and identifying opportunities for dynamic pricing based on availability.\n",
        "\n",
        "2)Market Segmentation: Utilize the information on neighbourhood groups, neighbourhoods, and room types to identify market segments with high demand. The client can focus their marketing efforts on popular neighbourhoods and room types to attract potential guests. Understanding customer preferences based on these variables can help tailor offerings and provide a personalized experience to different market segments.\n",
        "\n",
        "3)Collaboration with Top Hosts: Identify the top hosts with the most listings and establish partnerships or collaborations with them. This can include offering special promotions, incentives, or exclusive listings to these hosts. Collaborating with experienced hosts can enhance the overall guest experience, attract more bookings, and help build a strong reputation in the market.\n",
        "\n",
        "4)Competitive Analysis: Conduct a thorough analysis of competitors in the market, including their pricing strategies, customer reviews, and listing characteristics. This analysis can provide insights into the market landscape, identify gaps or opportunities for differentiation, and help the client stay competitive in the industry.\n",
        "\n",
        "5)Customer Reviews and Satisfaction: Analyze customer reviews and ratings to identify areas of improvement and enhance the guest experience. Addressing any recurring issues or negative feedback can lead to improved customer satisfaction and positive reviews, which in turn can attract more bookings and build a strong reputation.\n",
        "\n",
        "6)Marketing and Advertising Strategies: Utilize the insights gained from the dataset to optimize marketing and advertising efforts. This can include targeting specific market segments, using data-driven marketing techniques, and leveraging popular neighbourhoods or room types in promotional campaigns. By aligning marketing strategies with customer preferences and market trends, the client can enhance their visibility and attract more potential guests.\n",
        "\n",
        "Overall, by leveraging the insights obtained from the dataset, the client can make informed decisions to optimize pricing, target the right market segments, enhance the guest experience, and differentiate themselves in the competitive market. These strategies can help them achieve their business objectives of maximizing bookings, revenue, and customer satisfaction in the Airbnb rental business."
      ],
      "metadata": {
        "id": "pASKb0qOza21"
      }
    },
    {
      "cell_type": "markdown",
      "source": [
        "# **Conclusion**"
      ],
      "metadata": {
        "id": "gCX9965dhzqZ"
      }
    },
    {
      "cell_type": "markdown",
      "source": [
        "In conclusion, the analysis of the Airbnb booking dataset provides valuable insights and recommendations for the client to achieve their business objectives. By leveraging the data and implementing the suggested strategies, the client can optimize their pricing, target the right market segments, enhance the guest experience, and differentiate themselves in the competitive market.\n",
        "\n",
        "Key findings from the analysis include identifying top hosts with the most listings, understanding pricing trends and patterns, exploring market segmentation based on neighbourhoods and room types, and analyzing customer reviews and satisfaction. These insights can guide the client in making data-driven decisions and taking proactive measures to drive positive business impact.\n",
        "\n",
        "The suggested strategies include pricing optimization, collaboration with top hosts, competitive analysis, customer review analysis, and tailored marketing and advertising strategies. By implementing these strategies, the client can enhance their revenue, attract more bookings, and improve customer satisfaction.\n",
        "\n",
        "It is important for the client to continuously monitor and analyze the market dynamics, adapt their strategies based on changing trends and customer preferences, and stay ahead of the competition. Regular analysis of the dataset and leveraging additional data sources can provide further insights for continuous improvement and growth.\n",
        "\n",
        "Overall, with the right utilization of the dataset and the implementation of the suggested strategies, the client has the potential to achieve their business objectives and establish a strong presence in the Airbnb rental market."
      ],
      "metadata": {
        "id": "Fjb1IsQkh3yE"
      }
    },
    {
      "cell_type": "markdown",
      "source": [
        "### ***Hurrah! You have successfully completed your EDA Capstone Project !!!***"
      ],
      "metadata": {
        "id": "gIfDvo9L0UH2"
      }
    }
  ]
}